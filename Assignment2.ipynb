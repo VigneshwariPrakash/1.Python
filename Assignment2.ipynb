{
 "cells": [
  {
   "cell_type": "code",
   "execution_count": 3,
   "id": "f8371d5c-5fd8-414d-8eea-ae3edef2bf02",
   "metadata": {},
   "outputs": [
    {
     "name": "stdout",
     "output_type": "stream",
     "text": [
      "0\n",
      "1\n",
      "2\n",
      "3\n",
      "4\n",
      "5\n",
      "6\n",
      "7\n",
      "8\n",
      "9\n",
      "10\n",
      "11\n",
      "12\n",
      "13\n",
      "14\n",
      "15\n",
      "16\n",
      "17\n",
      "18\n",
      "19\n"
     ]
    }
   ],
   "source": [
    "for num in range(0,20):\n",
    "    print(num)"
   ]
  },
  {
   "cell_type": "code",
   "execution_count": 5,
   "id": "ddaf21db-7e6b-45d9-914c-ed3f97a96c71",
   "metadata": {},
   "outputs": [
    {
     "name": "stdout",
     "output_type": "stream",
     "text": [
      "0 1 2 3 4 5 6 7 8 9 10 11 12 13 14 15 16 17 18 19 "
     ]
    }
   ],
   "source": [
    "for num in range(0,20):\n",
    "    print(num, end=' ')\n",
    "  \n"
   ]
  },
  {
   "cell_type": "code",
   "execution_count": 7,
   "id": "8d1e00e3-ec34-4e57-acf6-011cee3ddf49",
   "metadata": {},
   "outputs": [
    {
     "name": "stdout",
     "output_type": "stream",
     "text": [
      "11\n",
      "12\n",
      "13\n",
      "14\n",
      "15\n",
      "16\n",
      "17\n",
      "18\n",
      "19\n",
      "20\n",
      "21\n",
      "22\n",
      "23\n",
      "24\n",
      "25\n",
      "26\n",
      "27\n",
      "28\n",
      "29\n",
      "30\n",
      "31\n",
      "32\n",
      "33\n",
      "34\n",
      "35\n",
      "36\n",
      "37\n",
      "38\n",
      "39\n"
     ]
    }
   ],
   "source": [
    "for int in range(11,40):\n",
    "    print(int)"
   ]
  },
  {
   "cell_type": "code",
   "execution_count": 11,
   "id": "290ef96c-15da-40be-8f07-38b3cc25c1d0",
   "metadata": {},
   "outputs": [
    {
     "name": "stdout",
     "output_type": "stream",
     "text": [
      "11 12 13 14 15 16 17 18 19 20 21 22 23 24 25 26 27 28 29 30 31 32 33 34 35 36 37 38 39 "
     ]
    }
   ],
   "source": [
    "for int in range(11,40):\n",
    "    print(int,end=' ')"
   ]
  },
  {
   "cell_type": "code",
   "execution_count": 1,
   "id": "cedd9b8c-3541-433f-acba-21bf6e412d6c",
   "metadata": {},
   "outputs": [
    {
     "name": "stdout",
     "output_type": "stream",
     "text": [
      "[10, 20, 14, 55, 43, 87, 76]\n",
      "Number of items in List2: 7\n"
     ]
    }
   ],
   "source": [
    "List2=[10,20,14,55,43,87,76]\n",
    "print(List2)\n",
    "print(\"Number of items in List2:\",len(List2))"
   ]
  },
  {
   "cell_type": "code",
   "execution_count": 15,
   "id": "a0e7491d-edf2-4d7c-b772-153946ab63c5",
   "metadata": {},
   "outputs": [
    {
     "name": "stdout",
     "output_type": "stream",
     "text": [
      "Artificial Intelligence\n",
      "A\n",
      "r\n",
      "t\n",
      "i\n",
      "f\n",
      "i\n",
      "c\n",
      "i\n",
      "a\n",
      "l\n",
      " \n",
      "I\n",
      "n\n",
      "t\n",
      "e\n",
      "l\n",
      "l\n",
      "i\n",
      "g\n",
      "e\n",
      "n\n",
      "c\n",
      "e\n"
     ]
    }
   ],
   "source": [
    "str='Artificial Intelligence'\n",
    "print(str)\n",
    "for name in str:\n",
    "    print(name)"
   ]
  },
  {
   "cell_type": "code",
   "execution_count": 17,
   "id": "1a8a3bf6-3fb0-42f8-8d2b-63b86be06349",
   "metadata": {},
   "outputs": [
    {
     "name": "stdout",
     "output_type": "stream",
     "text": [
      "Artificial Intelligence\n",
      "A\n",
      "r\n",
      "t\n",
      "i\n",
      "f\n",
      "i\n",
      "c\n",
      "i\n",
      "a\n",
      "l\n",
      " \n",
      "I\n",
      "n\n",
      "t\n",
      "e\n",
      "l\n",
      "l\n",
      "i\n",
      "g\n",
      "e\n",
      "n\n",
      "c\n",
      "e\n"
     ]
    }
   ],
   "source": [
    "name='Artificial Intelligence'\n",
    "print(name)\n",
    "for alpha in name:\n",
    "    print(alpha)"
   ]
  },
  {
   "cell_type": "code",
   "execution_count": 25,
   "id": "f9cf99f0-6486-4a5c-9381-5be87551e269",
   "metadata": {},
   "outputs": [
    {
     "name": "stdout",
     "output_type": "stream",
     "text": [
      "[1, 'Welcome', 2, 'Hope']\n"
     ]
    }
   ],
   "source": [
    "mytuble=[1,'Welcome',2,'Hope']\n",
    "print(mytuble)"
   ]
  },
  {
   "cell_type": "code",
   "execution_count": 27,
   "id": "19ce1a6b-a245-482f-9356-40ffc78f80e6",
   "metadata": {},
   "outputs": [
    {
     "name": "stdout",
     "output_type": "stream",
     "text": [
      "[1, 'Welcome', 2, 'Hope']\n",
      "1\n",
      "Welcome\n",
      "2\n",
      "Hope\n"
     ]
    }
   ],
   "source": [
    "mytuble=[1,'Welcome',2,'Hope']\n",
    "print(mytuble)\n",
    "for temp in mytuble:\n",
    "    print(temp)"
   ]
  },
  {
   "cell_type": "code",
   "execution_count": 7,
   "id": "4bf25f75-c3ac-41f6-a81c-bfadc775ea0d",
   "metadata": {},
   "outputs": [
    {
     "name": "stdout",
     "output_type": "stream",
     "text": [
      "-Your Name-\n",
      "-Your Age-\n",
      "-Your Profession-\n"
     ]
    }
   ],
   "source": [
    "List=['-Your Name-','-Your Age-','-Your Profession-']\n",
    "for temp in List:\n",
    "    print(temp)\n"
   ]
  },
  {
   "cell_type": "code",
   "execution_count": 7,
   "id": "ee5b6a67-55e3-40be-b168-d0d648f333a1",
   "metadata": {},
   "outputs": [
    {
     "name": "stdout",
     "output_type": "stream",
     "text": [
      "[0, 1, 2, 3] ['python', 'HOPE']\n"
     ]
    }
   ],
   "source": [
    "mytuble1=[0,1,2,3]\n",
    "mytuble2=['python','HOPE']\n",
    "print(mytuble1,mytuble2)"
   ]
  },
  {
   "cell_type": "code",
   "execution_count": 53,
   "id": "62da103c-e170-4ca2-9228-d5c46dfe7986",
   "metadata": {},
   "outputs": [
    {
     "name": "stdout",
     "output_type": "stream",
     "text": [
      "(20, 10, 16, 19, 25, 1, 276, 188)\n",
      "19 is odd number\n",
      "25 is odd number\n",
      "1 is odd number\n"
     ]
    }
   ],
   "source": [
    "List=(20,10,16,19,25,1,276,188)\n",
    "print(List)\n",
    "for num in List:\n",
    "    if((num%2)==1):\n",
    "        print(num,\"is odd number\")"
   ]
  },
  {
   "cell_type": "code",
   "execution_count": 51,
   "id": "9917878b-025d-4aaf-aa24-46dbac9407ec",
   "metadata": {},
   "outputs": [
    {
     "name": "stdout",
     "output_type": "stream",
     "text": [
      "(20, 10, 16, 19, 25, 1, 276, 188)\n",
      "20  is Even number\n",
      "10  is Even number\n",
      "16  is Even number\n",
      "276  is Even number\n",
      "188  is Even number\n"
     ]
    }
   ],
   "source": [
    "List=(20,10,16,19,25,1,276,188)\n",
    "print(List)\n",
    "for num in List:\n",
    "    if((num%2)==0):\n",
    "        print(num,\" is Even number\")"
   ]
  },
  {
   "cell_type": "code",
   "execution_count": null,
   "id": "8e59e81f-7eab-4886-8319-708c59913b23",
   "metadata": {},
   "outputs": [],
   "source": []
  }
 ],
 "metadata": {
  "kernelspec": {
   "display_name": "Python 3 (ipykernel)",
   "language": "python",
   "name": "python3"
  },
  "language_info": {
   "codemirror_mode": {
    "name": "ipython",
    "version": 3
   },
   "file_extension": ".py",
   "mimetype": "text/x-python",
   "name": "python",
   "nbconvert_exporter": "python",
   "pygments_lexer": "ipython3",
   "version": "3.12.7"
  }
 },
 "nbformat": 4,
 "nbformat_minor": 5
}
